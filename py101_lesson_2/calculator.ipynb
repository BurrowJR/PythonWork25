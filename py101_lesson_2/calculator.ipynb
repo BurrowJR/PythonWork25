{
 "cells": [
  {
   "cell_type": "code",
   "execution_count": 1,
   "id": "9cc74539",
   "metadata": {},
   "outputs": [
    {
     "name": "stdout",
     "output_type": "stream",
     "text": [
      "welcome to Calculator!\n"
     ]
    }
   ],
   "source": [
    "print('welcome to Calculator!')"
   ]
  },
  {
   "cell_type": "markdown",
   "id": "fc076eae",
   "metadata": {},
   "source": [
    "Ask the user for the first number.\n",
    "Ask the user for the second number.\n",
    "Ask the user for an operation to perform.\n",
    "Perform the operation on the two numbers.\n",
    "Print the result to the terminal."
   ]
  },
  {
   "cell_type": "markdown",
   "id": "d2070756",
   "metadata": {},
   "source": []
  }
 ],
 "metadata": {
  "kernelspec": {
   "display_name": ".venv",
   "language": "python",
   "name": "python3"
  },
  "language_info": {
   "codemirror_mode": {
    "name": "ipython",
    "version": 3
   },
   "file_extension": ".py",
   "mimetype": "text/x-python",
   "name": "python",
   "nbconvert_exporter": "python",
   "pygments_lexer": "ipython3",
   "version": "3.12.3"
  }
 },
 "nbformat": 4,
 "nbformat_minor": 5
}
